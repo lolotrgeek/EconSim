{
 "cells": [
  {
   "attachments": {},
   "cell_type": "markdown",
   "metadata": {},
   "source": [
    "# Basig usage of qmrExchange"
   ]
  },
  {
   "attachments": {},
   "cell_type": "markdown",
   "metadata": {},
   "source": [
    "### Import required libraries"
   ]
  },
  {
   "cell_type": "code",
   "execution_count": 1,
   "metadata": {},
   "outputs": [],
   "source": [
    "from main import *  "
   ]
  },
  {
   "attachments": {},
   "cell_type": "markdown",
   "metadata": {},
   "source": []
  },
  {
   "attachments": {},
   "cell_type": "markdown",
   "metadata": {},
   "source": [
    "### Declare basic parameters for the simulation\n",
    "qmrExchange allows for simulating multiple tickers at once, for statistical arbitrage and high-frequency-trading simulations. In the present case, we simulate 1 week worth of 1 minute data (24/7 trading).\n"
   ]
  },
  {
   "cell_type": "code",
   "execution_count": 2,
   "metadata": {},
   "outputs": [],
   "source": [
    "time_interval = 'minute'\n",
    "tickers = ['XYZ']\n",
    "episodes = 1000"
   ]
  },
  {
   "attachments": {},
   "cell_type": "markdown",
   "metadata": {},
   "source": [
    "### Instantiate a Simulator"
   ]
  },
  {
   "cell_type": "code",
   "execution_count": 3,
   "metadata": {},
   "outputs": [],
   "source": [
    "sim = Simulator(time_unit=time_interval, episodes=episodes)"
   ]
  },
  {
   "attachments": {},
   "cell_type": "markdown",
   "metadata": {},
   "source": [
    "### Add trading agents\n",
    "- We add a naive market maker that creates both buy and sell orders in each period. It quotes buy and sell prices based on the last traded price and the specified spread percentage.\n",
    "- We add a market taker that randomly buys and sells (based on the defined probabilities) on each period by means of market ordes (hence the word 'taker')."
   ]
  },
  {
   "cell_type": "code",
   "execution_count": 4,
   "metadata": {},
   "outputs": [
    {
     "name": "stdout",
     "output_type": "stream",
     "text": [
      "[<Agent: market_maker>, <Agent: market_taker>]\n"
     ]
    }
   ],
   "source": [
    "\n",
    "mm = NaiveMarketMaker(name='market_maker', tickers=tickers, aum=1_000, spread_pct=0.005, qty_per_order=4)\n",
    "sim.add_agent(mm)\n",
    "\n",
    "mt = RandomMarketTaker(name='market_taker', tickers=tickers, aum=1_000, prob_buy=.2, prob_sell=.2, qty_per_order=1,seed=42)\n",
    "sim.add_agent(mt)\n",
    "\n",
    "print(sim.agents)"
   ]
  },
  {
   "attachments": {},
   "cell_type": "markdown",
   "metadata": {},
   "source": [
    "### Run the simulation"
   ]
  },
  {
   "cell_type": "code",
   "execution_count": 5,
   "metadata": {},
   "outputs": [
    {
     "name": "stdout",
     "output_type": "stream",
     "text": [
      "Agent market_maker is next\n"
     ]
    },
    {
     "ename": "StopIteration",
     "evalue": "",
     "output_type": "error",
     "traceback": [
      "\u001b[1;31m---------------------------------------------------------------------------\u001b[0m",
      "\u001b[1;31mStopIteration\u001b[0m                             Traceback (most recent call last)",
      "Cell \u001b[1;32mIn[5], line 1\u001b[0m\n\u001b[1;32m----> 1\u001b[0m sim\u001b[39m.\u001b[39;49mrun()\n",
      "File \u001b[1;32mc:\\Users\\Jon\\Projects\\Finance\\qmrExchange\\source\\Simulator.py:48\u001b[0m, in \u001b[0;36mSimulator.run\u001b[1;34m(self, run_event)\u001b[0m\n\u001b[0;32m     46\u001b[0m \u001b[39mif\u001b[39;00m(run_event \u001b[39m==\u001b[39m \u001b[39mNone\u001b[39;00m):\n\u001b[0;32m     47\u001b[0m     \u001b[39mwhile\u001b[39;00m \u001b[39mTrue\u001b[39;00m:\n\u001b[1;32m---> 48\u001b[0m         \u001b[39mif\u001b[39;00m \u001b[39mnot\u001b[39;00m \u001b[39mself\u001b[39;49m\u001b[39m.\u001b[39;49mnext():\n\u001b[0;32m     49\u001b[0m             \u001b[39mbreak\u001b[39;00m\n\u001b[0;32m     50\u001b[0m \u001b[39melse\u001b[39;00m:\n",
      "File \u001b[1;32mc:\\Users\\Jon\\Projects\\Finance\\qmrExchange\\source\\Simulator.py:38\u001b[0m, in \u001b[0;36mSimulator.next\u001b[1;34m(self)\u001b[0m\n\u001b[0;32m     36\u001b[0m \u001b[39mfor\u001b[39;00m agent \u001b[39min\u001b[39;00m \u001b[39mself\u001b[39m\u001b[39m.\u001b[39magents:\n\u001b[0;32m     37\u001b[0m     \u001b[39mprint\u001b[39m(\u001b[39mf\u001b[39m\u001b[39m'\u001b[39m\u001b[39mAgent \u001b[39m\u001b[39m{\u001b[39;00magent\u001b[39m.\u001b[39mname\u001b[39m}\u001b[39;00m\u001b[39m is next\u001b[39m\u001b[39m'\u001b[39m)\n\u001b[1;32m---> 38\u001b[0m     agent\u001b[39m.\u001b[39;49mnext()\n\u001b[0;32m     39\u001b[0m \u001b[39mself\u001b[39m\u001b[39m.\u001b[39m__update_agents_cash()\n\u001b[0;32m     40\u001b[0m \u001b[39mself\u001b[39m\u001b[39m.\u001b[39mepisode \u001b[39m+\u001b[39m\u001b[39m=\u001b[39m \u001b[39m1\u001b[39m\n",
      "File \u001b[1;32mc:\\Users\\Jon\\Projects\\Finance\\qmrExchange\\source\\Agents.py:41\u001b[0m, in \u001b[0;36mNaiveMarketMaker.next\u001b[1;34m(self)\u001b[0m\n\u001b[0;32m     39\u001b[0m \u001b[39mdef\u001b[39;00m \u001b[39mnext\u001b[39m(\u001b[39mself\u001b[39m):\n\u001b[0;32m     40\u001b[0m     \u001b[39mfor\u001b[39;00m ticker \u001b[39min\u001b[39;00m \u001b[39mself\u001b[39m\u001b[39m.\u001b[39mtickers:\n\u001b[1;32m---> 41\u001b[0m         price \u001b[39m=\u001b[39m \u001b[39mself\u001b[39;49m\u001b[39m.\u001b[39;49mexchange\u001b[39m.\u001b[39;49mget_latest_trade(ticker)\u001b[39m.\u001b[39mprice\n\u001b[0;32m     42\u001b[0m         \u001b[39mself\u001b[39m\u001b[39m.\u001b[39mcancel_all_orders(ticker)\n\u001b[0;32m     43\u001b[0m         \u001b[39mself\u001b[39m\u001b[39m.\u001b[39mlimit_buy(ticker, price \u001b[39m*\u001b[39m (\u001b[39m1\u001b[39m\u001b[39m-\u001b[39m\u001b[39mself\u001b[39m\u001b[39m.\u001b[39mspread_pct\u001b[39m/\u001b[39m\u001b[39m2\u001b[39m), qty\u001b[39m=\u001b[39m\u001b[39mself\u001b[39m\u001b[39m.\u001b[39mqty_per_order)\n",
      "File \u001b[1;32mc:\\Users\\Jon\\Projects\\Finance\\qmrExchange\\source\\Exchange.py:68\u001b[0m, in \u001b[0;36mExchange.get_latest_trade\u001b[1;34m(self, ticker)\u001b[0m\n\u001b[0;32m     59\u001b[0m \u001b[39mdef\u001b[39;00m \u001b[39mget_latest_trade\u001b[39m(\u001b[39mself\u001b[39m, ticker:\u001b[39mstr\u001b[39m) \u001b[39m-\u001b[39m\u001b[39m>\u001b[39m Trade:\n\u001b[0;32m     60\u001b[0m \u001b[39m    \u001b[39m\u001b[39m\"\"\"Retrieves the most recent trade of a given asset\u001b[39;00m\n\u001b[0;32m     61\u001b[0m \n\u001b[0;32m     62\u001b[0m \u001b[39m    Args:\u001b[39;00m\n\u001b[1;32m   (...)\u001b[0m\n\u001b[0;32m     66\u001b[0m \u001b[39m        Trade\u001b[39;00m\n\u001b[0;32m     67\u001b[0m \u001b[39m    \"\"\"\u001b[39;00m\n\u001b[1;32m---> 68\u001b[0m     \u001b[39mreturn\u001b[39;00m \u001b[39mnext\u001b[39;49m(trade \u001b[39mfor\u001b[39;49;00m trade \u001b[39min\u001b[39;49;00m \u001b[39mself\u001b[39;49m\u001b[39m.\u001b[39;49mtrade_log[::\u001b[39m-\u001b[39;49m\u001b[39m1\u001b[39;49m] \u001b[39mif\u001b[39;49;00m trade\u001b[39m.\u001b[39;49mticker \u001b[39m==\u001b[39;49m ticker)\n",
      "\u001b[1;31mStopIteration\u001b[0m: "
     ]
    }
   ],
   "source": [
    "sim.run()"
   ]
  },
  {
   "attachments": {},
   "cell_type": "markdown",
   "metadata": {},
   "source": [
    "Retrieve all executed trades of our simulation"
   ]
  },
  {
   "cell_type": "code",
   "execution_count": null,
   "metadata": {},
   "outputs": [],
   "source": [
    "print(sim.exchange.trade_log)\n",
    "# print(sim.trades.head(20).to_markdown())"
   ]
  },
  {
   "attachments": {},
   "cell_type": "markdown",
   "metadata": {},
   "source": [
    "Group asset price in fixed 15 Minute OHLCV Bars"
   ]
  },
  {
   "cell_type": "code",
   "execution_count": null,
   "metadata": {},
   "outputs": [],
   "source": [
    "df_15min = sim.get_price_bars(ticker=tickers[0],bar_size='15Min')\n",
    "print(df_15min.head(20).to_markdown())"
   ]
  },
  {
   "attachments": {},
   "cell_type": "markdown",
   "metadata": {},
   "source": [
    "Retrieve a dataframe of an agents holding at each period of time"
   ]
  },
  {
   "cell_type": "code",
   "execution_count": null,
   "metadata": {},
   "outputs": [],
   "source": [
    "mt_holdings = sim.get_portfolio_history('market_taker')\n",
    "mm_holdings = sim.get_portfolio_history('market_maker')\n",
    "\n",
    "print(mt_holdings.head(20).to_markdown())"
   ]
  },
  {
   "attachments": {},
   "cell_type": "markdown",
   "metadata": {},
   "source": [
    "### Plot the results"
   ]
  },
  {
   "cell_type": "code",
   "execution_count": null,
   "metadata": {},
   "outputs": [],
   "source": [
    "from source.helpers import plot_bars\n",
    "df_15min = sim.get_price_bars(ticker=tickers[0], bar_size='15Min')\n",
    "plot_bars(df_15min)"
   ]
  },
  {
   "cell_type": "code",
   "execution_count": null,
   "metadata": {},
   "outputs": [],
   "source": [
    "import plotly.express as px\n",
    "import pandas as pd\n",
    "\n",
    "df_plot = pd.DataFrame()\n",
    "df_plot['Market Maker'] = mm_holdings['aum']\n",
    "df_plot['Market Taker'] = mt_holdings['aum']\n",
    "fig = px.line(df_plot,labels={'variable':'Agents','value':'Assets Under Management','dt':'Date'})\n",
    "fig.show()"
   ]
  },
  {
   "cell_type": "code",
   "execution_count": null,
   "metadata": {},
   "outputs": [],
   "source": []
  }
 ],
 "metadata": {
  "kernelspec": {
   "display_name": "Python 3.9.12 ('trader')",
   "language": "python",
   "name": "python3"
  },
  "language_info": {
   "codemirror_mode": {
    "name": "ipython",
    "version": 3
   },
   "file_extension": ".py",
   "mimetype": "text/x-python",
   "name": "python",
   "nbconvert_exporter": "python",
   "pygments_lexer": "ipython3",
   "version": "3.11.3"
  },
  "orig_nbformat": 4,
  "vscode": {
   "interpreter": {
    "hash": "b7ee2c8dc09aabd4386d664219f9f1f879c3c7a6a19655566f635d6a0814017c"
   }
  }
 },
 "nbformat": 4,
 "nbformat_minor": 2
}
