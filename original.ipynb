{
 "cells": [
  {
   "attachments": {},
   "cell_type": "markdown",
   "metadata": {},
   "source": [
    "# Basig usage of qmrExchange"
   ]
  },
  {
   "attachments": {},
   "cell_type": "markdown",
   "metadata": {},
   "source": [
    "### Import required libraries"
   ]
  },
  {
   "cell_type": "code",
   "execution_count": 1,
   "metadata": {},
   "outputs": [],
   "source": [
    "from source.original import Exchange, Simulator\n",
    "from source.Agents import RandomMarketTaker, NaiveMarketMaker\n",
    "from datetime import datetime"
   ]
  },
  {
   "attachments": {},
   "cell_type": "markdown",
   "metadata": {},
   "source": [
    "### Declare basic parameters for the simulation\n",
    "qmrExchange allows for simulating multiple tickers at once, for statistical arbitrage and high-frequency-trading simulations. In the present case, we simulate 1 week worth of 1 minute data (24/7 trading).\n"
   ]
  },
  {
   "cell_type": "code",
   "execution_count": 2,
   "metadata": {},
   "outputs": [],
   "source": [
    "from_date = datetime(2022,1,1)\n",
    "to_date = datetime(2022,1,15)\n",
    "time_interval = 'minute'\n",
    "tickers = ['XYZ']"
   ]
  },
  {
   "attachments": {},
   "cell_type": "markdown",
   "metadata": {},
   "source": [
    "### Instantiate a Simulator"
   ]
  },
  {
   "cell_type": "code",
   "execution_count": 3,
   "metadata": {},
   "outputs": [
    {
     "ename": "KeyError",
     "evalue": "datetime.datetime(2022, 1, 15, 0, 0)",
     "output_type": "error",
     "traceback": [
      "\u001b[1;31m---------------------------------------------------------------------------\u001b[0m",
      "\u001b[1;31mKeyError\u001b[0m                                  Traceback (most recent call last)",
      "Cell \u001b[1;32mIn[3], line 1\u001b[0m\n\u001b[1;32m----> 1\u001b[0m sim \u001b[39m=\u001b[39m Simulator(from_date, to_date,time_interval)\n\u001b[0;32m      2\u001b[0m sim\u001b[39m.\u001b[39mexchange\u001b[39m.\u001b[39mcreate_asset(tickers[\u001b[39m0\u001b[39m])\n",
      "File \u001b[1;32mc:\\Users\\Jon\\Projects\\Finance\\qmrExchange\\source\\qmr_exchange.py:500\u001b[0m, in \u001b[0;36mSimulator.__init__\u001b[1;34m(self, from_date, time_unit, episodes)\u001b[0m\n\u001b[0;32m    499\u001b[0m \u001b[39mdef\u001b[39;00m \u001b[39m__init__\u001b[39m(\u001b[39mself\u001b[39m, from_date\u001b[39m=\u001b[39mdatetime(\u001b[39m2022\u001b[39m,\u001b[39m1\u001b[39m,\u001b[39m1\u001b[39m), time_unit\u001b[39m=\u001b[39m\u001b[39m'\u001b[39m\u001b[39mday\u001b[39m\u001b[39m'\u001b[39m, episodes\u001b[39m=\u001b[39m\u001b[39m0\u001b[39m):\n\u001b[1;32m--> 500\u001b[0m     \u001b[39mself\u001b[39m\u001b[39m.\u001b[39mtimeDelta \u001b[39m=\u001b[39m get_timedelta(time_unit)\n\u001b[0;32m    501\u001b[0m     \u001b[39mself\u001b[39m\u001b[39m.\u001b[39mdt \u001b[39m=\u001b[39m from_date\n\u001b[0;32m    502\u001b[0m     \u001b[39mself\u001b[39m\u001b[39m.\u001b[39magents \u001b[39m=\u001b[39m []\n",
      "File \u001b[1;32mc:\\Users\\Jon\\Projects\\Finance\\qmrExchange\\source\\_utils.py:14\u001b[0m, in \u001b[0;36mget_timedelta\u001b[1;34m(time_unit)\u001b[0m\n\u001b[0;32m     13\u001b[0m \u001b[39mdef\u001b[39;00m \u001b[39mget_timedelta\u001b[39m(time_unit):\n\u001b[1;32m---> 14\u001b[0m     \u001b[39mreturn\u001b[39;00m {\n\u001b[0;32m     15\u001b[0m         \u001b[39m'\u001b[39;49m\u001b[39msecond\u001b[39;49m\u001b[39m'\u001b[39;49m: timedelta(seconds\u001b[39m=\u001b[39;49m\u001b[39m1\u001b[39;49m),\n\u001b[0;32m     16\u001b[0m         \u001b[39m'\u001b[39;49m\u001b[39mminute\u001b[39;49m\u001b[39m'\u001b[39;49m: timedelta(minutes\u001b[39m=\u001b[39;49m\u001b[39m1\u001b[39;49m),\n\u001b[0;32m     17\u001b[0m         \u001b[39m'\u001b[39;49m\u001b[39mhour\u001b[39;49m\u001b[39m'\u001b[39;49m: timedelta(hours\u001b[39m=\u001b[39;49m\u001b[39m1\u001b[39;49m),\n\u001b[0;32m     18\u001b[0m         \u001b[39m'\u001b[39;49m\u001b[39mday\u001b[39;49m\u001b[39m'\u001b[39;49m: timedelta(days\u001b[39m=\u001b[39;49m\u001b[39m1\u001b[39;49m),\n\u001b[0;32m     19\u001b[0m     }[time_unit]\n",
      "\u001b[1;31mKeyError\u001b[0m: datetime.datetime(2022, 1, 15, 0, 0)"
     ]
    }
   ],
   "source": [
    "sim = Simulator(from_date, to_date,time_interval)\n",
    "sim.exchange.create_asset(tickers[0])"
   ]
  },
  {
   "attachments": {},
   "cell_type": "markdown",
   "metadata": {},
   "source": [
    "### Add trading agents\n",
    "- We add a naive market maker that creates both buy and sell orders in each period. It quotes buy and sell prices based on the last traded price and the specified spread percentage.\n",
    "- We add a market taker that randomly buys and sells (based on the defined probabilities) on each period by means of market ordes (hence the word 'taker')."
   ]
  },
  {
   "cell_type": "code",
   "execution_count": null,
   "metadata": {},
   "outputs": [],
   "source": [
    "\n",
    "mm = NaiveMarketMaker(name='market_maker', tickers=tickers, aum=1_000, spread_pct=0.005, qty_per_order=4)\n",
    "sim.add_agent(mm)\n",
    "\n",
    "mt = RandomMarketTaker(name='market_taker', tickers=tickers, aum=1_000, prob_buy=.2, prob_sell=.2, qty_per_order=1,seed=42)\n",
    "sim.add_agent(mt)"
   ]
  },
  {
   "attachments": {},
   "cell_type": "markdown",
   "metadata": {},
   "source": [
    "### Run the simulation"
   ]
  },
  {
   "cell_type": "code",
   "execution_count": null,
   "metadata": {},
   "outputs": [],
   "source": [
    "sim.run()"
   ]
  },
  {
   "attachments": {},
   "cell_type": "markdown",
   "metadata": {},
   "source": [
    "Retrieve all executed trades of our simulation"
   ]
  },
  {
   "cell_type": "code",
   "execution_count": null,
   "metadata": {},
   "outputs": [],
   "source": [
    "print(sim.trades.head(20).to_markdown())"
   ]
  },
  {
   "attachments": {},
   "cell_type": "markdown",
   "metadata": {},
   "source": [
    "Group asset price in fixed 15 Minute OHLCV Bars"
   ]
  },
  {
   "cell_type": "code",
   "execution_count": null,
   "metadata": {},
   "outputs": [],
   "source": [
    "df_15min = sim.get_price_bars(ticker=tickers[0],bar_size='15Min')\n",
    "print(df_15min.head(20).to_markdown())"
   ]
  },
  {
   "attachments": {},
   "cell_type": "markdown",
   "metadata": {},
   "source": [
    "Retrieve a dataframe of an agents holding at each period of time"
   ]
  },
  {
   "cell_type": "code",
   "execution_count": null,
   "metadata": {},
   "outputs": [],
   "source": [
    "mt_holdings = sim.get_portfolio_history('market_taker')\n",
    "mm_holdings = sim.get_portfolio_history('market_maker')\n",
    "\n",
    "print(mt_holdings.head(20).to_markdown())"
   ]
  },
  {
   "attachments": {},
   "cell_type": "markdown",
   "metadata": {},
   "source": [
    "### Plot the results"
   ]
  },
  {
   "cell_type": "code",
   "execution_count": null,
   "metadata": {},
   "outputs": [],
   "source": [
    "from source.helpers import plot_bars\n",
    "df_15min = sim.get_price_bars(ticker=tickers[0], bar_size='15Min')\n",
    "plot_bars(df_15min)"
   ]
  },
  {
   "cell_type": "code",
   "execution_count": null,
   "metadata": {},
   "outputs": [],
   "source": [
    "import plotly.express as px\n",
    "import pandas as pd\n",
    "\n",
    "df_plot = pd.DataFrame()\n",
    "df_plot['Market Maker'] = mm_holdings['aum']\n",
    "df_plot['Market Taker'] = mt_holdings['aum']\n",
    "fig = px.line(df_plot,labels={'variable':'Agents','value':'Assets Under Management','dt':'Date'})\n",
    "fig.show()"
   ]
  },
  {
   "cell_type": "code",
   "execution_count": null,
   "metadata": {},
   "outputs": [],
   "source": []
  }
 ],
 "metadata": {
  "kernelspec": {
   "display_name": "Python 3.9.12 ('trader')",
   "language": "python",
   "name": "python3"
  },
  "language_info": {
   "codemirror_mode": {
    "name": "ipython",
    "version": 3
   },
   "file_extension": ".py",
   "mimetype": "text/x-python",
   "name": "python",
   "nbconvert_exporter": "python",
   "pygments_lexer": "ipython3",
   "version": "3.11.3"
  },
  "orig_nbformat": 4,
  "vscode": {
   "interpreter": {
    "hash": "b7ee2c8dc09aabd4386d664219f9f1f879c3c7a6a19655566f635d6a0814017c"
   }
  }
 },
 "nbformat": 4,
 "nbformat_minor": 2
}
